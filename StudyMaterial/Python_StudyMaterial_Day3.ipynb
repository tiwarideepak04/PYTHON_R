{
 "cells": [
  {
   "cell_type": "markdown",
   "metadata": {},
   "source": [
    "## For loop"
   ]
  },
  {
   "cell_type": "markdown",
   "metadata": {},
   "source": [
    "Problem:\n",
    "\n",
    "Write a python code to print the sum of all elements in the list = [6, 5, 3, 8, 4, 2, 5, 4, 11, 43]?"
   ]
  },
  {
   "cell_type": "raw",
   "metadata": {},
   "source": [
    "Create simple list variable numbers equal to [6, 5, 3, 8, 4, 2, 5, 4, 11, 43]\n",
    "variable sum equal to zero\n",
    "create Condition for loop i in the numbers\n",
    "sum equal to sum+i here each loop iterated\n",
    "print sum"
   ]
  },
  {
   "cell_type": "code",
   "execution_count": 67,
   "metadata": {},
   "outputs": [
    {
     "data": {
      "image/png": "[encoded data removed]",
      "text/plain": [
       "<IPython.core.display.Image object>"
      ]
     },
     "execution_count": 67,
     "metadata": {},
     "output_type": "execute_result"
    }
   ],
   "source": [
    "Image('20.png')"
   ]
  },
  {
   "cell_type": "markdown",
   "metadata": {},
   "source": [
    "### Read a String/Tuple/List and print each element one by one "
   ]
  },
  {
   "cell_type": "code",
   "execution_count": 12,
   "metadata": {},
   "outputs": [
    {
     "name": "stdout",
     "output_type": "stream",
     "text": [
      "G\n",
      "r\n",
      "e\n",
      "a\n",
      "t\n",
      "L\n",
      "e\n",
      "a\n",
      "r\n",
      "n\n",
      "i\n",
      "n\n",
      "g\n"
     ]
    }
   ],
   "source": [
    "# read a string and print the elements one by one\n",
    "nm = 'GreatLearning'\n",
    "\n",
    "for i in nm:\n",
    "    print(i)"
   ]
  },
  {
   "cell_type": "code",
   "execution_count": 27,
   "metadata": {},
   "outputs": [
    {
     "name": "stdout",
     "output_type": "stream",
     "text": [
      "[1, 2, 3, 4, 5]\n",
      "1\n",
      "2\n",
      "3\n",
      "4\n",
      "5\n"
     ]
    }
   ],
   "source": [
    "# read a list and print the elements one by one\n",
    "## simple for loop\n",
    "a = [1,2,3,4,5]\n",
    "\n",
    "for j in a:\n",
    "    print(j)"
   ]
  },
  {
   "cell_type": "code",
   "execution_count": 1,
   "metadata": {},
   "outputs": [
    {
     "name": "stdout",
     "output_type": "stream",
     "text": [
      "great\n",
      "learning\n",
      "wonderful\n",
      "place\n",
      "to\n",
      "learn\n"
     ]
    }
   ],
   "source": [
    "# Read a tuple and display all the words one by one \n",
    "\n",
    "a = (\"great\",\"learning\",\"wonderful\",\"place\",\"to\",\"learn\")\n",
    "\n",
    "for i in a:\n",
    "    print(i)"
   ]
  },
  {
   "cell_type": "markdown",
   "metadata": {},
   "source": [
    "#### List of List"
   ]
  },
  {
   "cell_type": "code",
   "execution_count": 17,
   "metadata": {},
   "outputs": [
    {
     "name": "stdout",
     "output_type": "stream",
     "text": [
      "['great', 'learning', 'datascience']\n",
      "[0, 1, 2]\n",
      "[9.9, 8.8, 7.7]\n"
     ]
    }
   ],
   "source": [
    "list_of_lists = [['great', 'learning', 'datascience'],[0, 1, 2],[9.9, 8.8, 7.7]]\n",
    "\n",
    "for list in list_of_lists:\n",
    "    print(list)"
   ]
  },
  {
   "cell_type": "markdown",
   "metadata": {},
   "source": [
    "### For with range"
   ]
  },
  {
   "cell_type": "code",
   "execution_count": 26,
   "metadata": {},
   "outputs": [
    {
     "name": "stdout",
     "output_type": "stream",
     "text": [
      "value of i is : 1\n",
      "value of i is : 2\n",
      "value of i is : 3\n",
      "value of i is : 4\n",
      "value of i is : 5\n",
      "value of i is : 6\n",
      "value of i is : 7\n",
      "value of i is : 8\n",
      "value of i is : 9\n",
      "value of i is : 10\n"
     ]
    }
   ],
   "source": [
    "#print the numbers from 1 till 10\n",
    "for i in range(1,11):\n",
    "    print(\"value of i is :\", i)"
   ]
  },
  {
   "cell_type": "code",
   "execution_count": 2,
   "metadata": {},
   "outputs": [
    {
     "name": "stdout",
     "output_type": "stream",
     "text": [
      "value of i is : 5\n",
      "value of i is : 10\n",
      "value of i is : 15\n",
      "value of i is : 20\n",
      "value of i is : 25\n",
      "value of i is : 30\n",
      "value of i is : 35\n",
      "value of i is : 40\n",
      "value of i is : 45\n"
     ]
    }
   ],
   "source": [
    "#print the numbers from 1 till 10 with regular interval of 2\n",
    "for i in range(5,50,5):\n",
    "    print(\"value of i is :\", i)"
   ]
  },
  {
   "cell_type": "code",
   "execution_count": 11,
   "metadata": {},
   "outputs": [
    {
     "name": "stdout",
     "output_type": "stream",
     "text": [
      "100\n",
      "90\n",
      "80\n",
      "70\n",
      "60\n",
      "50\n",
      "40\n",
      "30\n",
      "20\n",
      "10\n"
     ]
    }
   ],
   "source": [
    "for i in range(100,0,-10):\n",
    "   print(i)"
   ]
  },
  {
   "cell_type": "markdown",
   "metadata": {},
   "source": [
    "### For Practice"
   ]
  },
  {
   "cell_type": "code",
   "execution_count": 45,
   "metadata": {},
   "outputs": [
    {
     "name": "stdout",
     "output_type": "stream",
     "text": [
      "The sum is 91\n"
     ]
    }
   ],
   "source": [
    "# List of numbers\n",
    "numbers = [6, 5, 3, 8, 4, 2, 5, 4, 11, 43]\n",
    "\n",
    "# variable to store the sum\n",
    "sum = 0\n",
    "\n",
    "# iterate over the list\n",
    "for i in numbers:\n",
    "    sum = sum+i\n",
    "\n",
    "\n",
    "print(\"The sum is\", sum)"
   ]
  },
  {
   "cell_type": "code",
   "execution_count": 28,
   "metadata": {},
   "outputs": [
    {
     "name": "stdout",
     "output_type": "stream",
     "text": [
      "g\n",
      "r\n",
      "e\n",
      "a\n",
      "t\n",
      "l\n",
      "e\n",
      "a\n",
      "r\n",
      "n\n",
      "i\n",
      "n\n",
      "g\n"
     ]
    }
   ],
   "source": [
    "# read the elements and print the elements one by one\n",
    "nm = \"greatlearning\"\n",
    "for i in nm:\n",
    "    print(i)"
   ]
  },
  {
   "cell_type": "code",
   "execution_count": 29,
   "metadata": {},
   "outputs": [
    {
     "name": "stdout",
     "output_type": "stream",
     "text": [
      "1 Squared value is : 1\n",
      "3 Squared value is : 9\n",
      "5 Squared value is : 25\n",
      "7 Squared value is : 49\n",
      "9 Squared value is : 81\n",
      "11 Squared value is : 121\n",
      "13 Squared value is : 169\n",
      "15 Squared value is : 225\n"
     ]
    }
   ],
   "source": [
    "# read each eleemnt from the range and square and print the value\n",
    "for i in range(1,16,2):\n",
    "    print(i,\"Squared value is :\" ,i*i)"
   ]
  },
  {
   "cell_type": "markdown",
   "metadata": {},
   "source": [
    "### Read a dict using for loop and print the vlaues one by one "
   ]
  },
  {
   "cell_type": "markdown",
   "metadata": {},
   "source": [
    "### Dict Loops"
   ]
  },
  {
   "cell_type": "code",
   "execution_count": 3,
   "metadata": {},
   "outputs": [
    {
     "data": {
      "text/plain": [
       "{'color': 'blue', 'fruit': 'apple', 'pet': 'dog'}"
      ]
     },
     "execution_count": 3,
     "metadata": {},
     "output_type": "execute_result"
    }
   ],
   "source": [
    "a_dict = {'color': 'blue', 'fruit': 'apple', 'pet': 'dog'}\n",
    "a_dict"
   ]
  },
  {
   "cell_type": "code",
   "execution_count": 4,
   "metadata": {},
   "outputs": [
    {
     "name": "stdout",
     "output_type": "stream",
     "text": [
      "('color', 'blue')\n",
      "('fruit', 'apple')\n",
      "('pet', 'dog')\n"
     ]
    }
   ],
   "source": [
    "## print all the items\n",
    "for item in a_dict.items():\n",
    "    print(item)"
   ]
  },
  {
   "cell_type": "code",
   "execution_count": 5,
   "metadata": {},
   "outputs": [
    {
     "name": "stdout",
     "output_type": "stream",
     "text": [
      "color\n",
      "fruit\n",
      "pet\n"
     ]
    }
   ],
   "source": [
    "## print all the keys\n",
    "for item in a_dict.keys():\n",
    "    print(item)"
   ]
  },
  {
   "cell_type": "code",
   "execution_count": 6,
   "metadata": {},
   "outputs": [
    {
     "name": "stdout",
     "output_type": "stream",
     "text": [
      "blue\n",
      "apple\n",
      "dog\n"
     ]
    }
   ],
   "source": [
    "## print all the values\n",
    "for item in a_dict.values():\n",
    "    print(item)"
   ]
  },
  {
   "cell_type": "code",
   "execution_count": 7,
   "metadata": {},
   "outputs": [
    {
     "name": "stdout",
     "output_type": "stream",
     "text": [
      "['blue', 'apple', 'dog']\n"
     ]
    }
   ],
   "source": [
    "# Get all the values and display the output as list\n",
    "lst = []\n",
    "for item in a_dict.values():\n",
    "    #print(item)\n",
    "    lst.append(item)\n",
    "print(lst)"
   ]
  },
  {
   "cell_type": "code",
   "execution_count": 8,
   "metadata": {},
   "outputs": [
    {
     "name": "stdout",
     "output_type": "stream",
     "text": [
      "color -> blue\n",
      "fruit -> apple\n",
      "pet -> dog\n"
     ]
    }
   ],
   "source": [
    "#Pass the item and display the key and its respective values\n",
    "\n",
    "for key, value in a_dict.items():\n",
    "     print(key, '->', value)"
   ]
  },
  {
   "cell_type": "code",
   "execution_count": 9,
   "metadata": {},
   "outputs": [
    {
     "data": {
      "text/plain": [
       "{'apple': 0.36, 'orange': 0.32, 'banana': 0.23}"
      ]
     },
     "execution_count": 9,
     "metadata": {},
     "output_type": "execute_result"
    }
   ],
   "source": [
    "# create a dict key - fruit name, value is price\n",
    "prices = {'apple': 0.40, 'orange': 0.35, 'banana': 0.25}\n",
    "\n",
    "# Get the key and values for each items\n",
    "for k, v in prices.items():\n",
    "    #for each key value, get its respective value and\n",
    "    prices[k] = round(v * 0.9, 2)  # Apply a 10% discount\n",
    "prices"
   ]
  },
  {
   "cell_type": "code",
   "execution_count": 15,
   "metadata": {},
   "outputs": [
    {
     "name": "stdout",
     "output_type": "stream",
     "text": [
      "name: Sammy\n",
      "animal: shark\n",
      "color: blue\n",
      "location: ocean\n"
     ]
    }
   ],
   "source": [
    "nm = {'name': 'Sammy', 'animal': 'shark', 'color': 'blue', 'location': 'ocean'}\n",
    "\n",
    "for i in nm:\n",
    "    print(i + ': ' + nm[i])"
   ]
  },
  {
   "cell_type": "markdown",
   "metadata": {},
   "source": [
    "### Nested For"
   ]
  },
  {
   "cell_type": "raw",
   "metadata": {},
   "source": [
    "for [first iterating variable] in [outer loop]: # Outer loop\n",
    "    [do something]  # Optional\n",
    "    for [second iterating variable] in [nested loop]:   # Nested loop\n",
    "        [do something]  "
   ]
  },
  {
   "cell_type": "code",
   "execution_count": null,
   "metadata": {},
   "outputs": [],
   "source": []
  },
  {
   "cell_type": "code",
   "execution_count": 10,
   "metadata": {},
   "outputs": [
    {
     "name": "stdout",
     "output_type": "stream",
     "text": [
      "red apple\n",
      "red banana\n",
      "red cherry\n",
      "big apple\n",
      "big banana\n",
      "big cherry\n",
      "tasty apple\n",
      "tasty banana\n",
      "tasty cherry\n"
     ]
    }
   ],
   "source": [
    "adj = [\"red\", \"big\", \"tasty\"]\n",
    "fruits = [\"apple\", \"banana\", \"cherry\"]\n",
    "\n",
    "for x in adj:\n",
    "  for y in fruits:\n",
    "    print(x, y)"
   ]
  },
  {
   "cell_type": "code",
   "execution_count": 16,
   "metadata": {},
   "outputs": [
    {
     "name": "stdout",
     "output_type": "stream",
     "text": [
      "1\n",
      "a\n",
      "b\n",
      "c\n",
      "2\n",
      "a\n",
      "b\n",
      "c\n",
      "3\n",
      "a\n",
      "b\n",
      "c\n"
     ]
    }
   ],
   "source": [
    "num_list = [1, 2, 3]\n",
    "alpha_list = ['a', 'b', 'c']\n",
    "\n",
    "for number in num_list:\n",
    "    print(number)\n",
    "    for letter in alpha_list:\n",
    "        print(letter)"
   ]
  },
  {
   "cell_type": "code",
   "execution_count": 18,
   "metadata": {},
   "outputs": [
    {
     "name": "stdout",
     "output_type": "stream",
     "text": [
      "great\n",
      "learning\n",
      "datascience\n",
      "0\n",
      "1\n",
      "2\n",
      "9.9\n",
      "8.8\n",
      "7.7\n"
     ]
    }
   ],
   "source": [
    "list_of_lists = [['great', 'learning', 'datascience'],[0, 1, 2],[9.9, 8.8, 7.7]]\n",
    "\n",
    "for list in list_of_lists:\n",
    "    for item in list:\n",
    "        print(item)"
   ]
  },
  {
   "cell_type": "code",
   "execution_count": null,
   "metadata": {},
   "outputs": [],
   "source": []
  },
  {
   "cell_type": "markdown",
   "metadata": {},
   "source": [
    "### Genetrate a code to print a table for given number"
   ]
  },
  {
   "cell_type": "code",
   "execution_count": 4,
   "metadata": {},
   "outputs": [
    {
     "name": "stdout",
     "output_type": "stream",
     "text": [
      "5\n",
      "5 x 1 = 5\n",
      "5 x 2 = 10\n",
      "5 x 3 = 15\n",
      "5 x 4 = 20\n",
      "5 x 5 = 25\n",
      "5 x 6 = 30\n",
      "5 x 7 = 35\n",
      "5 x 8 = 40\n",
      "5 x 9 = 45\n",
      "5 x 10 = 50\n"
     ]
    }
   ],
   "source": [
    "# Example to create a loop for calculating table\n",
    "n=int(input())\n",
    "for i in range(1,11):\n",
    "    print(n,\"x\",i,\"=\",n*i)"
   ]
  },
  {
   "cell_type": "markdown",
   "metadata": {},
   "source": [
    "## Nested for  Loop and conditional statement"
   ]
  },
  {
   "cell_type": "code",
   "execution_count": 7,
   "metadata": {},
   "outputs": [
    {
     "name": "stdout",
     "output_type": "stream",
     "text": [
      "35\n",
      "70\n"
     ]
    }
   ],
   "source": [
    "# for the given sequence, get the list of number which is divisible by 5 and 7\n",
    "for i in range(1,101):\n",
    "    if( i%5==0 and i%7==0):\n",
    "        print(i)"
   ]
  },
  {
   "cell_type": "code",
   "execution_count": 15,
   "metadata": {},
   "outputs": [
    {
     "name": "stdout",
     "output_type": "stream",
     "text": [
      "list of numbers :  [35]\n",
      "list of numbers :  [35, 70]\n",
      "\n",
      "total sum :  105\n"
     ]
    }
   ],
   "source": [
    "# for the given range, get the list of number division by 5 and 7 and display cummulative\n",
    "#get the total sum of all those values div by 5 and 7\n",
    "lst = []\n",
    "for i in range(1,101):\n",
    "    if( i%5==0 and i%7==0):\n",
    "        lst.append(i)\n",
    "        \n",
    "        print(\"list of numbers : \", lst)\n",
    "        \n",
    "print(\"\\ntotal sum : \", sum(lst))"
   ]
  },
  {
   "cell_type": "code",
   "execution_count": 16,
   "metadata": {},
   "outputs": [
    {
     "name": "stdout",
     "output_type": "stream",
     "text": [
      "1 i  is a odd number\n",
      "2 i is even number\n",
      "3 i  is a odd number\n",
      "4 i is even number\n",
      "5 i  is a odd number\n"
     ]
    }
   ],
   "source": [
    "# write a code, to check if the given list and each element is even or odd\n",
    "\n",
    "num = [1,2,3,4,5]\n",
    "for i in num:\n",
    "    if(i%2 == 0):\n",
    "        print(i, \"i is even number\")\n",
    "    else:\n",
    "        print(i,\"i  is a odd number\")"
   ]
  },
  {
   "cell_type": "code",
   "execution_count": 17,
   "metadata": {},
   "outputs": [
    {
     "name": "stdout",
     "output_type": "stream",
     "text": [
      "Even number : [2, 4]\n",
      "Odd number :  [1, 3, 5]\n"
     ]
    }
   ],
   "source": [
    "# write a code, to check if the given list and each element is even or odd using list\n",
    "\n",
    "even = []\n",
    "odd = []\n",
    "num = [1,2,3,4,5]\n",
    "for i in num:\n",
    "    if(i%2 == 0):\n",
    "        even.append(i)\n",
    "    else:\n",
    "        odd.append(i)\n",
    "\n",
    "print(\"Even number :\",even)\n",
    "print(\"Odd number : \", odd)"
   ]
  },
  {
   "cell_type": "code",
   "execution_count": 25,
   "metadata": {},
   "outputs": [
    {
     "name": "stdout",
     "output_type": "stream",
     "text": [
      "Enter your age: 40\n",
      "you are of the right age\n"
     ]
    }
   ],
   "source": [
    "# get the age , write nested if loop and display results\n",
    "# age > 100, too old,greater than 25 and less than 100 right age \n",
    "#less than 25 too young \n",
    "x = int(input('Enter your age: '))\n",
    "if x > 25:\n",
    "    if x > 100:\n",
    "        print('You are too old')\n",
    "    else:\n",
    "        print('you are of the right age')\n",
    "else:\n",
    "    print('You are too young')"
   ]
  },
  {
   "cell_type": "code",
   "execution_count": 9,
   "metadata": {},
   "outputs": [
    {
     "name": "stdout",
     "output_type": "stream",
     "text": [
      "Enter a number: 6\n",
      "The factorial of 6 is 720\n"
     ]
    }
   ],
   "source": [
    "#Find factorial of the number 6\n",
    "\n",
    "## 6! FACTORIAL is denoted by 1*2*3*4*5*6 = 720\n",
    "\n",
    "#num = 6\n",
    "\n",
    "num = int(input(\"Enter a number: \"))\n",
    "\n",
    "factorial = 1\n",
    "\n",
    "# check if the number is negative, positive or zero\n",
    "if num < 0:\n",
    "   print(\"Sorry, factorial does not exist for negative numbers\")\n",
    "elif num == 0:\n",
    "   print(\"The factorial of 0 is 1\")\n",
    "else:\n",
    "   for i in range(1,num + 1):\n",
    "       factorial = factorial*i\n",
    "print(\"The factorial of\",num,\"is\",factorial)"
   ]
  },
  {
   "cell_type": "markdown",
   "metadata": {},
   "source": [
    "### Break"
   ]
  },
  {
   "cell_type": "code",
   "execution_count": 18,
   "metadata": {},
   "outputs": [
    {
     "name": "stdout",
     "output_type": "stream",
     "text": [
      "g\n",
      "r\n",
      "e\n",
      "a\n",
      "t\n",
      "l\n",
      "e\n",
      "a\n",
      "r\n",
      "n\n",
      "The end of code\n"
     ]
    }
   ],
   "source": [
    "# once it checks for the condition and if its satisfied, ignore all the character after that\n",
    "for i in \"greatlearning\":\n",
    "    if i == \"i\":\n",
    "        break\n",
    "    print(i)\n",
    "\n",
    "print(\"The end of code\")"
   ]
  },
  {
   "cell_type": "markdown",
   "metadata": {},
   "source": [
    "## Continue"
   ]
  },
  {
   "cell_type": "code",
   "execution_count": 19,
   "metadata": {},
   "outputs": [
    {
     "name": "stdout",
     "output_type": "stream",
     "text": [
      "g\n",
      "r\n",
      "e\n",
      "a\n",
      "t\n",
      "l\n",
      "e\n",
      "a\n",
      "r\n",
      "n\n",
      "n\n",
      "g\n",
      "The end of code\n"
     ]
    }
   ],
   "source": [
    "# once it checks for the condition and if its satisfied, ignore the current element and prints the rest\n",
    "for i in \"greatlearning\":\n",
    "    if i == \"i\":\n",
    "        continue\n",
    "    print(i)\n",
    "\n",
    "print(\"The end of code\")"
   ]
  },
  {
   "cell_type": "code",
   "execution_count": 10,
   "metadata": {},
   "outputs": [
    {
     "name": "stdout",
     "output_type": "stream",
     "text": [
      "value of x : 110\n",
      "value of x : 111\n",
      "value of x : 112\n",
      "value of x : 113\n",
      "value of x : 114\n",
      "value of x : 115\n",
      "value of x : 116\n",
      "value of x : 117\n",
      "value of x : 118\n",
      "value of x : 119\n",
      "value of x : 120\n",
      "value of x : 121\n",
      "value of x : 122\n",
      "value of x : 123\n",
      "value of x : 124\n",
      "There is match found\n",
      "value of x : 125\n",
      "value of x : 126\n",
      "value of x : 127\n",
      "value of x : 128\n",
      "value of x : 129\n"
     ]
    }
   ],
   "source": [
    "# for a given range of values 110,130. Print a message id 124 is found and print all the other values \n",
    "# if and continue statement\n",
    "\n",
    "for x in range(110,130): \n",
    "    print(\"value of x :\", x)\n",
    "    if(x == 124):\n",
    "        print(\"There is match found\")\n",
    "        continue #continue statement checks for the condition and continues the loop"
   ]
  },
  {
   "cell_type": "markdown",
   "metadata": {},
   "source": [
    "## while loop"
   ]
  },
  {
   "cell_type": "markdown",
   "metadata": {},
   "source": [
    "##### Problem : \n",
    "Python code to print the first 10 natural numbers?"
   ]
  },
  {
   "cell_type": "raw",
   "metadata": {},
   "source": [
    "while condition:\n",
    "     statements"
   ]
  },
  {
   "cell_type": "raw",
   "metadata": {},
   "source": [
    "Assigning x = 0\n",
    "while loop condition x is greater than 10 go to step 3\n",
    "print x and go to step 4\n",
    "each loop iteration x increment equal to 1"
   ]
  },
  {
   "cell_type": "code",
   "execution_count": 65,
   "metadata": {
    "scrolled": false
   },
   "outputs": [
    {
     "data": {
      "image/png": "[encoded data removed]",
      "text/plain": [
       "<IPython.core.display.Image object>"
      ]
     },
     "execution_count": 65,
     "metadata": {},
     "output_type": "execute_result"
    }
   ],
   "source": [
    "Image('19.png')"
   ]
  },
  {
   "cell_type": "raw",
   "metadata": {},
   "source": [
    "While loop in Python is used to iterate over a block of code as long as the test expression (condition) is true."
   ]
  },
  {
   "cell_type": "raw",
   "metadata": {},
   "source": [
    "#Syntax\n",
    "\n",
    "while test_expression:\n",
    "    Body of while"
   ]
  },
  {
   "attachments": {
    "image.png": {
     "image/png": "[encoded data removed]"
    }
   },
   "cell_type": "markdown",
   "metadata": {},
   "source": [
    "![image.png](attachment:image.png)"
   ]
  },
  {
   "cell_type": "code",
   "execution_count": 30,
   "metadata": {
    "scrolled": true
   },
   "outputs": [
    {
     "name": "stdout",
     "output_type": "stream",
     "text": [
      "0\n",
      "1\n",
      "2\n",
      "3\n",
      "4\n",
      "5\n",
      "6\n",
      "7\n",
      "8\n",
      "9\n"
     ]
    }
   ],
   "source": [
    "x = 0\n",
    "while x < 10:\n",
    "    print (x)\n",
    "    x+=1"
   ]
  },
  {
   "cell_type": "code",
   "execution_count": 12,
   "metadata": {},
   "outputs": [
    {
     "name": "stdout",
     "output_type": "stream",
     "text": [
      "great learning\n",
      "great learning\n",
      "great learning\n",
      "great learning\n",
      "great learning\n"
     ]
    }
   ],
   "source": [
    "# print text 5 times\n",
    "count = 1\n",
    "while(count <=5) :\n",
    " print(\"great learning\")\n",
    " count = count + 1 "
   ]
  },
  {
   "cell_type": "code",
   "execution_count": 4,
   "metadata": {},
   "outputs": [
    {
     "name": "stdout",
     "output_type": "stream",
     "text": [
      "4\n",
      "3\n",
      "2\n",
      "1\n",
      "0\n"
     ]
    }
   ],
   "source": [
    "# print the numbers in reverse way\n",
    "n = 5\n",
    "while n > 0:\n",
    "    n -= 1\n",
    "    print(n)"
   ]
  },
  {
   "cell_type": "code",
   "execution_count": 3,
   "metadata": {},
   "outputs": [
    {
     "name": "stdout",
     "output_type": "stream",
     "text": [
      "1 1\n",
      "2 4\n",
      "3 9\n",
      "4 16\n",
      "5 25\n"
     ]
    }
   ],
   "source": [
    "#get the input and square the output\n",
    "i = 1\n",
    "while i <= 5:\n",
    "    print(i,i ** 2)\n",
    "    i += 1"
   ]
  },
  {
   "cell_type": "code",
   "execution_count": 5,
   "metadata": {},
   "outputs": [
    {
     "name": "stdout",
     "output_type": "stream",
     "text": [
      "red\n",
      "black\n",
      "blue\n"
     ]
    }
   ],
   "source": [
    "#get the list and print the input one by one\n",
    "\n",
    "colors = ['red','black','blue']\n",
    "i = 0\n",
    "while i < len(colors):\n",
    "    print(colors[i])\n",
    "    i+=1"
   ]
  },
  {
   "cell_type": "code",
   "execution_count": 14,
   "metadata": {},
   "outputs": [
    {
     "name": "stdout",
     "output_type": "stream",
     "text": [
      "enter the input number :10\n",
      "The sum is 1\n",
      "The sum is 3\n",
      "The sum is 6\n",
      "The sum is 10\n",
      "The sum is 15\n",
      "The sum is 21\n",
      "The sum is 28\n",
      "The sum is 36\n",
      "The sum is 45\n",
      "The sum is 55\n"
     ]
    }
   ],
   "source": [
    "n = int(input(\"enter the input number :\"))\n",
    "\n",
    "# initialize sum and counter\n",
    "sum = 0\n",
    "i = 1\n",
    "\n",
    "while i <= n:\n",
    "    sum = sum + i\n",
    "    i = i+1    # update counter\n",
    "\n",
    "    # print the sum\n",
    "    print(\"The sum is\", sum)\n",
    "    \n",
    "#print(\"The sum is\", sum)"
   ]
  },
  {
   "cell_type": "markdown",
   "metadata": {},
   "source": [
    "### While Break and continue"
   ]
  },
  {
   "cell_type": "code",
   "execution_count": 12,
   "metadata": {},
   "outputs": [
    {
     "name": "stdout",
     "output_type": "stream",
     "text": [
      "4\n",
      "3\n",
      "Loop ended.\n"
     ]
    }
   ],
   "source": [
    "n = 5\n",
    "while n > 0:\n",
    "    n -= 1\n",
    "    if n == 2:\n",
    "        break\n",
    "    print(n)\n",
    "print('Loop ended.')"
   ]
  },
  {
   "cell_type": "code",
   "execution_count": 13,
   "metadata": {},
   "outputs": [
    {
     "name": "stdout",
     "output_type": "stream",
     "text": [
      "4\n",
      "3\n",
      "1\n",
      "0\n",
      "Loop ended.\n"
     ]
    }
   ],
   "source": [
    "n = 5\n",
    "while n > 0:\n",
    "    n -= 1\n",
    "    if n == 2:\n",
    "        continue\n",
    "    print(n)\n",
    "print('Loop ended.')"
   ]
  },
  {
   "cell_type": "markdown",
   "metadata": {},
   "source": [
    "### While Loop with else"
   ]
  },
  {
   "cell_type": "code",
   "execution_count": 15,
   "metadata": {},
   "outputs": [
    {
     "name": "stdout",
     "output_type": "stream",
     "text": [
      "Inside loop\n",
      "Inside loop\n",
      "Inside loop\n",
      "Inside else\n"
     ]
    }
   ],
   "source": [
    "# initialize  counter\n",
    "counter = 0\n",
    "\n",
    "while counter < 3:\n",
    "    print(\"Inside loop\")\n",
    "    counter = counter + 1\n",
    "else:\n",
    "    print(\"Inside else\") # as the count reached 3, it exits out of the loop"
   ]
  },
  {
   "cell_type": "code",
   "execution_count": 21,
   "metadata": {},
   "outputs": [
    {
     "name": "stdout",
     "output_type": "stream",
     "text": [
      "0\n",
      "1\n",
      "2\n",
      "3\n",
      "4\n",
      "count value reached 5\n"
     ]
    }
   ],
   "source": [
    "# Prints out 0,1,2,3,4 and then it prints \"count value reached 5\"\n",
    "\n",
    "count=0\n",
    "while(count<5):\n",
    "    print(count)\n",
    "    count +=1\n",
    "else:\n",
    "    print(\"count value reached %d\" %(count))"
   ]
  },
  {
   "cell_type": "markdown",
   "metadata": {},
   "source": [
    "### While(1) - It is an infinite loop which will run till a break statement is issued explicitly"
   ]
  },
  {
   "cell_type": "code",
   "execution_count": 20,
   "metadata": {},
   "outputs": [
    {
     "name": "stdout",
     "output_type": "stream",
     "text": [
      "0\n",
      "1\n",
      "2\n",
      "3\n",
      "4\n"
     ]
    }
   ],
   "source": [
    "# Prints out 0,1,2,3,4\n",
    "\n",
    "count = 0\n",
    "while(1): # while True:\n",
    "    print(count)\n",
    "    count += 1\n",
    "    if count >= 5:\n",
    "        break"
   ]
  },
  {
   "cell_type": "markdown",
   "metadata": {},
   "source": [
    "# List Comprehensions"
   ]
  },
  {
   "cell_type": "markdown",
   "metadata": {},
   "source": [
    "### 1. Use list comprehension to print even numbers from 0 to n(n is some arbitrary value). "
   ]
  },
  {
   "cell_type": "code",
   "execution_count": 81,
   "metadata": {},
   "outputs": [
    {
     "data": {
      "image/png": "[encoded data removed]",
      "text/plain": [
       "<IPython.core.display.Image object>"
      ]
     },
     "execution_count": 81,
     "metadata": {},
     "output_type": "execute_result"
    }
   ],
   "source": [
    "# Parts of List Comprehension\n",
    "Image('21.png')"
   ]
  },
  {
   "cell_type": "code",
   "execution_count": 82,
   "metadata": {
    "scrolled": false
   },
   "outputs": [
    {
     "data": {
      "image/png": "[encoded data removed]",
      "text/plain": [
       "<IPython.core.display.Image object>"
      ]
     },
     "execution_count": 82,
     "metadata": {},
     "output_type": "execute_result"
    }
   ],
   "source": [
    "Image('22.png')"
   ]
  },
  {
   "cell_type": "markdown",
   "metadata": {},
   "source": [
    "# Problem:\n",
    "##### 1. Use a list comprehension print even numbers from 0 to n(n = 10 is some arbitrary value)?"
   ]
  },
  {
   "cell_type": "code",
   "execution_count": 80,
   "metadata": {
    "scrolled": true
   },
   "outputs": [
    {
     "data": {
      "text/plain": [
       "[0, 2, 4, 6, 8, 10]"
      ]
     },
     "execution_count": 80,
     "metadata": {},
     "output_type": "execute_result"
    }
   ],
   "source": [
    "n = 10\n",
    "values = [x for x in range(0, n+1) if x%2==0]\n",
    "values"
   ]
  },
  {
   "cell_type": "markdown",
   "metadata": {},
   "source": [
    "##### 2. list contains square of all odd numbers from range 1 to 10 "
   ]
  },
  {
   "cell_type": "code",
   "execution_count": 1,
   "metadata": {},
   "outputs": [
    {
     "data": {
      "text/plain": [
       "[1, 9, 25, 49, 81]"
      ]
     },
     "execution_count": 1,
     "metadata": {},
     "output_type": "execute_result"
    }
   ],
   "source": [
    "odd_square = [x ** 2 for x in range(1, 11) if x % 2 == 1] \n",
    "odd_square "
   ]
  },
  {
   "cell_type": "markdown",
   "metadata": {},
   "source": [
    "###### for understanding, above generation is same as, "
   ]
  },
  {
   "cell_type": "code",
   "execution_count": 2,
   "metadata": {},
   "outputs": [
    {
     "data": {
      "text/plain": [
       "[1, 9, 25, 49, 81]"
      ]
     },
     "execution_count": 2,
     "metadata": {},
     "output_type": "execute_result"
    }
   ],
   "source": [
    "odd_square = [] \n",
    "for x in range(1, 11): \n",
    "    if x % 2 == 1: \n",
    "        odd_square.append(x**2) \n",
    "odd_square "
   ]
  },
  {
   "cell_type": "markdown",
   "metadata": {},
   "source": [
    "###### 3. Using list comprehension, write a program to print the list with numbers which are divisible by 5 and 7 in [10,12,24,35,70,88,120,155,10,27]"
   ]
  },
  {
   "cell_type": "code",
   "execution_count": 4,
   "metadata": {},
   "outputs": [
    {
     "data": {
      "text/plain": [
       "[35, 70]"
      ]
     },
     "execution_count": 4,
     "metadata": {},
     "output_type": "execute_result"
    }
   ],
   "source": [
    "li =[5,10,12,24,35,70,88,120,155,10,27]\n",
    "li = [y for y in li if y%5 ==0 and y%7 ==0]\n",
    "li"
   ]
  },
  {
   "cell_type": "markdown",
   "metadata": {},
   "source": [
    "###### 4. list contains power of 2 from 1 to 8 "
   ]
  },
  {
   "cell_type": "code",
   "execution_count": 5,
   "metadata": {},
   "outputs": [
    {
     "data": {
      "text/plain": [
       "[2, 4, 8, 16, 32, 64, 128, 256]"
      ]
     },
     "execution_count": 5,
     "metadata": {},
     "output_type": "execute_result"
    }
   ],
   "source": [
    "power_of_2 = [2 ** x for x in range(1, 9)] \n",
    "power_of_2"
   ]
  },
  {
   "cell_type": "markdown",
   "metadata": {},
   "source": [
    "#### 5. list contains prime and in range 1 to 50 "
   ]
  },
  {
   "cell_type": "code",
   "execution_count": 7,
   "metadata": {},
   "outputs": [
    {
     "data": {
      "text/plain": [
       "[2, 3, 5, 7, 11, 13, 17, 19, 23, 29, 31, 37, 41, 43, 47]"
      ]
     },
     "execution_count": 7,
     "metadata": {},
     "output_type": "execute_result"
    }
   ],
   "source": [
    "noprimes = [j for i in range(2, 8) for j in range(i*2, 50, i)] \n",
    "primes = [x for x in range(2, 50) if x not in noprimes] \n",
    "primes "
   ]
  },
  {
   "cell_type": "markdown",
   "metadata": {},
   "source": [
    "##### 6. Python code that copies an array and turns each letter in that array into an uppercase. It does so by looping through each item in the array?"
   ]
  },
  {
   "cell_type": "code",
   "execution_count": 8,
   "metadata": {},
   "outputs": [
    {
     "name": "stdout",
     "output_type": "stream",
     "text": [
      "['a', 'b', 'c', 'd']\n",
      "['A', 'B', 'C', 'D']\n"
     ]
    }
   ],
   "source": [
    "letters = ['a', 'b', 'c', 'd']\n",
    "print(letters)\n",
    "\n",
    "upper_letters = []\n",
    "for letter in letters:\n",
    "  result = letter.upper()\n",
    "  upper_letters.append(result)\n",
    "\n",
    "print(upper_letters)"
   ]
  },
  {
   "cell_type": "markdown",
   "metadata": {},
   "source": [
    "#### Same Problem in List comprehension?"
   ]
  },
  {
   "cell_type": "code",
   "execution_count": 9,
   "metadata": {},
   "outputs": [
    {
     "name": "stdout",
     "output_type": "stream",
     "text": [
      "['a', 'b', 'c', 'd']\n",
      "['A', 'B', 'C', 'D']\n"
     ]
    }
   ],
   "source": [
    "letters = ['a', 'b', 'c', 'd']\n",
    "print(letters)\n",
    "\n",
    "upper_letters = [x.upper() for x in letters]\n",
    "\n",
    "print(upper_letters)"
   ]
  },
  {
   "cell_type": "code",
   "execution_count": null,
   "metadata": {},
   "outputs": [],
   "source": []
  }
 ],
 "metadata": {
  "kernelspec": {
   "display_name": "Python 3",
   "language": "python",
   "name": "python3"
  },
  "language_info": {
   "codemirror_mode": {
    "name": "ipython",
    "version": 3
   },
   "file_extension": ".py",
   "mimetype": "text/x-python",
   "name": "python",
   "nbconvert_exporter": "python",
   "pygments_lexer": "ipython3",
   "version": "3.7.3"
  }
 },
 "nbformat": 4,
 "nbformat_minor": 2
}
